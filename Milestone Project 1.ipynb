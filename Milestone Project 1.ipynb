{
 "cells": [
  {
   "cell_type": "code",
   "execution_count": null,
   "id": "4e4ce5c3",
   "metadata": {},
   "outputs": [],
   "source": [
    "game_list=[0,1,2]"
   ]
  },
  {
   "cell_type": "code",
   "execution_count": null,
   "id": "37de6ea0",
   "metadata": {},
   "outputs": [],
   "source": [
    "def displ_gamelist(gamlist):\n",
    "    print(\"Here is the current list\")\n",
    "    print(gamlist)"
   ]
  },
  {
   "cell_type": "code",
   "execution_count": null,
   "id": "c4fadb14",
   "metadata": {},
   "outputs": [],
   "source": [
    "displ_gamelist(game_list)"
   ]
  },
  {
   "cell_type": "code",
   "execution_count": null,
   "id": "225ec514",
   "metadata": {},
   "outputs": [],
   "source": [
    "def poschoice():\n",
    "    choice='W'\n",
    "    while choice not in['0','1','2']:\n",
    "        choice=input(\"Enter the postion from 0-2: \")\n",
    "        if choice not in ['0','1','2']:\n",
    "            print(\"sorry invalid choice\")\n",
    "            \n",
    "    return choice"
   ]
  },
  {
   "cell_type": "code",
   "execution_count": null,
   "id": "e66e215f",
   "metadata": {},
   "outputs": [],
   "source": [
    "pos=poschoice()"
   ]
  },
  {
   "cell_type": "code",
   "execution_count": null,
   "id": "a7689fea",
   "metadata": {},
   "outputs": [],
   "source": [
    "pos=int(pos)"
   ]
  },
  {
   "cell_type": "code",
   "execution_count": null,
   "id": "75bc355d",
   "metadata": {},
   "outputs": [],
   "source": [
    "def replacement(gme_list,posit):\n",
    "    user_ent=input('Type the string to place at position {}:'.format(posit))\n",
    "    gme_list[posit]=user_ent\n",
    "    return gme_list"
   ]
  },
  {
   "cell_type": "code",
   "execution_count": null,
   "id": "36ff8426",
   "metadata": {},
   "outputs": [],
   "source": [
    "replacement(game_list,pos)"
   ]
  },
  {
   "cell_type": "code",
   "execution_count": null,
   "id": "000d47ca",
   "metadata": {},
   "outputs": [],
   "source": [
    "def gamechoice():\n",
    "    choice='W'\n",
    "    while choice not in ['Y','N']:\n",
    "        choice=input('Do you want to keep playin boi ')\n",
    "        if choice not in ['Y','N']:\n",
    "            print(\"Are you retarded enter Y or N goddamit not yo mama name \")\n",
    "    if choice == 'Y':\n",
    "        return True\n",
    "    else:\n",
    "        return False\n",
    "            "
   ]
  },
  {
   "cell_type": "code",
   "execution_count": null,
   "id": "d0459aec",
   "metadata": {},
   "outputs": [],
   "source": [
    "gamechoice()"
   ]
  },
  {
   "cell_type": "code",
   "execution_count": null,
   "id": "4cbf84fa",
   "metadata": {},
   "outputs": [],
   "source": [
    "game_on=True\n",
    "game_list=['','','']\n",
    "while game_on == True:\n",
    "    displ_gamelist(game_list)\n",
    "    pos=int(poschoice())\n",
    "    game_list=replacement(game_list,pos)\n",
    "    displ_gamelist(game_list)\n",
    "    game_on=gamechoice()"
   ]
  },
  {
   "cell_type": "code",
   "execution_count": 2,
   "id": "081a3f61",
   "metadata": {},
   "outputs": [],
   "source": [
    "from IPython.display import clear_output\n",
    "def display_checkboard(board):\n",
    "    clear_output()\n",
    "    print(board[7]+'|'+board[8]+'|'+board[9])\n",
    "    print(board[4]+'|'+board[5]+'|'+board[6])\n",
    "    print(board[1]+'|'+board[2]+'|'+board[3])"
   ]
  },
  {
   "cell_type": "code",
   "execution_count": 8,
   "id": "afedc0a9",
   "metadata": {},
   "outputs": [
    {
     "name": "stdout",
     "output_type": "stream",
     "text": [
      "X|O|X\n",
      "O|X|O\n",
      "X|O|X\n"
     ]
    }
   ],
   "source": [
    "tstboard=['#','X','O','X','O','X','O','X','O','X']\n",
    "display_checkboard(tstboard)"
   ]
  },
  {
   "cell_type": "code",
   "execution_count": 3,
   "id": "fca55cba",
   "metadata": {},
   "outputs": [],
   "source": [
    "def userinput():\n",
    "    choice=''\n",
    "    while (choice !='X' or choice!='O'):\n",
    "        print(\"For Player one enter the symbol you want O or X\")\n",
    "        choice1=input().upper()\n",
    "        if choice1=='X':\n",
    "            return('X',\"O\")\n",
    "        else:\n",
    "            return('O','X')"
   ]
  },
  {
   "cell_type": "code",
   "execution_count": 4,
   "id": "5edd6579",
   "metadata": {},
   "outputs": [
    {
     "name": "stdout",
     "output_type": "stream",
     "text": [
      "For Player one enter the symbol you want O or X\n",
      "X\n"
     ]
    },
    {
     "data": {
      "text/plain": [
       "('X', 'O')"
      ]
     },
     "execution_count": 4,
     "metadata": {},
     "output_type": "execute_result"
    }
   ],
   "source": [
    "userinput()"
   ]
  },
  {
   "cell_type": "code",
   "execution_count": 5,
   "id": "7ae24e6f",
   "metadata": {},
   "outputs": [],
   "source": [
    "def placemark(board,posit,choice):\n",
    "    board[posit]=choice"
   ]
  },
  {
   "cell_type": "code",
   "execution_count": 9,
   "id": "1e354c5b",
   "metadata": {},
   "outputs": [
    {
     "name": "stdout",
     "output_type": "stream",
     "text": [
      "X|@|X\n",
      "O|X|O\n",
      "X|O|X\n"
     ]
    }
   ],
   "source": [
    "placemark(tstboard,8,'@')\n",
    "display_checkboard(tstboard)"
   ]
  },
  {
   "cell_type": "code",
   "execution_count": 12,
   "id": "a359dacd",
   "metadata": {},
   "outputs": [],
   "source": [
    "def checkwin(testboard,mark):\n",
    "    return ((testboard[7] == mark and testboard[8] == mark and testboard[9] == mark) or # across the top\n",
    "    (testboard[4] == mark and testboard[5] == mark and testboard[6] == mark) or # across the middle\n",
    "    (testboard[1] == mark and testboard[2] == mark and testboard[3] == mark) or # across the bottom\n",
    "    (testboard[7] == mark and testboard[4] == mark and testboard[1] == mark) or # down the middle\n",
    "    (testboard[8] == mark and testboard[5] == mark and testboard[2] == mark) or # down the middle\n",
    "    (testboard[9] == mark and testboard[6] == mark and testboard[3] == mark) or # down the right side\n",
    "    (testboard[7] == mark and testboard[5] == mark and testboard[3] == mark) or # diagonal\n",
    "    (testboard[9] == mark and testboard[5] == mark and testboard[1] == mark)) # diagonal"
   ]
  },
  {
   "cell_type": "code",
   "execution_count": 13,
   "id": "4b1761f2",
   "metadata": {},
   "outputs": [
    {
     "data": {
      "text/plain": [
       "False"
      ]
     },
     "execution_count": 13,
     "metadata": {},
     "output_type": "execute_result"
    }
   ],
   "source": [
    "checkwin(tstboard,'O')"
   ]
  },
  {
   "cell_type": "markdown",
   "id": "a3d9b147",
   "metadata": {},
   "source": [
    "if testboard[7]== mark and testboard[8]== mark and testboard[9]== mark: \n",
    "    return True\n",
    "elif testboard[4]== mark and testboard[5]== mark and testboard[6]== mark:\n",
    "    return True\n",
    "elif testboard[1]== mark and testboard[2]== mark and testboard[3]== mark:\n",
    "    return True\n",
    "elif testboard[7]== mark and testboard[4]== mark and testboard[1]== mark:\n",
    "    return True \n",
    "elif testboard[8]== mark and testboard[5]== mark and testboard[2]== mark:\n",
    "    return True\n",
    "elif testboard[9]== mark and testboard[6]== mark and testboard[3]== mark:\n",
    "    return True\n",
    "elif testboard[7]== mark and testboard[5]== mark and testboard[3]== mark:\n",
    "    return True\n",
    "elif testboard[9]== mark and testboard[5]== mark and testboard[1]== mark:\n",
    "    return True\n",
    "else:\n",
    "    return False\n",
    "We have not used this type of elif if statements as it is very lengthy and python can have dynamic function type thereby if a perfect statement is correct the function gives out the \"True\" as output else \"False\" is generated as output "
   ]
  },
  {
   "cell_type": "code",
   "execution_count": 14,
   "id": "01aa3bf2",
   "metadata": {},
   "outputs": [],
   "source": [
    "import random\n",
    "def playerturn():\n",
    "    turn = random.randint(0,1)\n",
    "    if turn == 0:\n",
    "        return 'Player 2'\n",
    "    else:\n",
    "        return 'Player 1'"
   ]
  },
  {
   "cell_type": "code",
   "execution_count": 15,
   "id": "05f08dae",
   "metadata": {},
   "outputs": [],
   "source": [
    "def free(board,posi):\n",
    "    return board[posi]==''"
   ]
  },
  {
   "cell_type": "code",
   "execution_count": 16,
   "id": "1fdebd49",
   "metadata": {},
   "outputs": [],
   "source": [
    "def full(tstboard):\n",
    "    for i in range(1,10):\n",
    "        if free(tstboard,i):\n",
    "            return False #meaning the board is having space and not entirely full\n",
    "    return True"
   ]
  },
  {
   "cell_type": "code",
   "execution_count": 17,
   "id": "fdc46477",
   "metadata": {},
   "outputs": [],
   "source": [
    "def playchoose(testboard):\n",
    "    positch=0\n",
    "    while positch not in range(1,10)or not free(testboard,positch):\n",
    "        positch=int(input(\"Enter indec from 1-9\"))\n",
    "    return positch"
   ]
  },
  {
   "cell_type": "code",
   "execution_count": 18,
   "id": "42e09562",
   "metadata": {},
   "outputs": [],
   "source": [
    "def playagain():\n",
    "    choice=input(\"If you want to continue then enter yes\")\n",
    "    if (choice =='yes' or choice=='YES' or choice=='Yes'):\n",
    "        return choice"
   ]
  },
  {
   "cell_type": "code",
   "execution_count": 19,
   "id": "bd0515c1",
   "metadata": {},
   "outputs": [],
   "source": [
    "def ticktactoe():\n",
    "    print(\"Welcome to ticktactoe\")\n",
    "    while True:\n",
    "        board=['','','','','','','','','','']\n",
    "        player1marker,player2marker=userinput()\n",
    "        turn=playerturn()\n",
    "        print(\"{} will go first\".format(turn))\n",
    "        play=input(\"Do you want to play y or n\").upper()\n",
    "        if play == 'Y':\n",
    "            game=True\n",
    "        else:\n",
    "            game=False\n",
    "        while game:\n",
    "            if turn =='Player 1':\n",
    "                display_checkboard(board)#Show the board\n",
    "                position=playchoose(board)\n",
    "                placemark(board,position,player1marker)\n",
    "                if checkwin(board,player1marker):\n",
    "                    display_checkboard(board)\n",
    "                    print(\"{} won the game\".format(turn))\n",
    "                    game=False\n",
    "                else:\n",
    "                    if full(board):\n",
    "                        print(\"the game is tie\")\n",
    "                        display_checkboard(board)\n",
    "                        game=False\n",
    "                    else:\n",
    "                        turn='Player 2'\n",
    "                \n",
    "            else:\n",
    "                display_checkboard(board)#Show the board\n",
    "                position=playchoose(board)\n",
    "                placemark(board,position,player2marker)\n",
    "                if checkwin(board,player2marker):\n",
    "                    display_checkboard(board)\n",
    "                    print(\"{} won the game\".format(turn))\n",
    "                    game=False\n",
    "                else:\n",
    "                    if full(board):\n",
    "                        print(\"the game is tie\")\n",
    "                        display_checkboard(board)\n",
    "                        game=False\n",
    "                    else:\n",
    "                        turn='Player 1'\n",
    "        if not playagain():\n",
    "            break"
   ]
  },
  {
   "cell_type": "code",
   "execution_count": 21,
   "id": "04d29012",
   "metadata": {},
   "outputs": [
    {
     "name": "stdout",
     "output_type": "stream",
     "text": [
      "O||X\n",
      "O|X|\n",
      "O|X|O\n",
      "Player 1 won the game\n",
      "If you want to continue then enter yesyes\n",
      "For Player one enter the symbol you want O or X\n",
      "X\n",
      "Player 2 will go first\n",
      "Do you want to play y or nN\n",
      "If you want to continue then enter yesn\n"
     ]
    }
   ],
   "source": [
    "ticktactoe()"
   ]
  },
  {
   "cell_type": "code",
   "execution_count": null,
   "id": "6525d64b",
   "metadata": {},
   "outputs": [],
   "source": []
  },
  {
   "cell_type": "code",
   "execution_count": null,
   "id": "ff2f5962",
   "metadata": {},
   "outputs": [],
   "source": []
  },
  {
   "cell_type": "code",
   "execution_count": null,
   "id": "221812a4",
   "metadata": {},
   "outputs": [],
   "source": []
  },
  {
   "cell_type": "code",
   "execution_count": null,
   "id": "ded9fdc0",
   "metadata": {},
   "outputs": [],
   "source": []
  },
  {
   "cell_type": "code",
   "execution_count": null,
   "id": "8f5505b4",
   "metadata": {},
   "outputs": [],
   "source": []
  },
  {
   "cell_type": "code",
   "execution_count": null,
   "id": "7e00f051",
   "metadata": {},
   "outputs": [],
   "source": []
  },
  {
   "cell_type": "code",
   "execution_count": null,
   "id": "93976a75",
   "metadata": {},
   "outputs": [],
   "source": []
  }
 ],
 "metadata": {
  "kernelspec": {
   "display_name": "Python 3 (ipykernel)",
   "language": "python",
   "name": "python3"
  },
  "language_info": {
   "codemirror_mode": {
    "name": "ipython",
    "version": 3
   },
   "file_extension": ".py",
   "mimetype": "text/x-python",
   "name": "python",
   "nbconvert_exporter": "python",
   "pygments_lexer": "ipython3",
   "version": "3.9.7"
  }
 },
 "nbformat": 4,
 "nbformat_minor": 5
}
